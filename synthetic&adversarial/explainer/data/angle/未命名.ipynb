{
 "cells": [
  {
   "cell_type": "markdown",
   "id": "5fc35032",
   "metadata": {},
   "source": [
    "**train_indiv_grad:** train_indiv_grad.npy, train_indiv_grad_nn.npy\n",
    "\n",
    "**val avg grad:** util_loss_total_grad.npy, fair_loss_total_grad.npy, robust_loss_total_grad.npy, util_loss_total_grad_nn.npy\n",
    "\n",
    "**val avg grad dot hess:** util_grad_hvp.npy, fair_grad_hvp.npy, robust_grad_hvp.npy, util_grad_hvp_nn.npy\n",
    "\n",
    "\n",
    "**Lissa:** train_indiv_grad * val avg grad dot hess\n",
    "\n",
    "\n",
    "**Inner Product:** train_indiv_grad * val avg grad"
   ]
  },
  {
   "cell_type": "code",
   "execution_count": null,
   "id": "09056719",
   "metadata": {},
   "outputs": [],
   "source": []
  }
 ],
 "metadata": {
  "kernelspec": {
   "display_name": "Python 3 (ipykernel)",
   "language": "python",
   "name": "python3"
  },
  "language_info": {
   "codemirror_mode": {
    "name": "ipython",
    "version": 3
   },
   "file_extension": ".py",
   "mimetype": "text/x-python",
   "name": "python",
   "nbconvert_exporter": "python",
   "pygments_lexer": "ipython3",
   "version": "3.10.12"
  }
 },
 "nbformat": 4,
 "nbformat_minor": 5
}
